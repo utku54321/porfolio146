{
 "cells": [
  {
   "cell_type": "code",
   "execution_count": 1,
   "id": "be92e351-3567-4da0-812d-d7dbd16cf913",
   "metadata": {},
   "outputs": [
    {
     "name": "stdout",
     "output_type": "stream",
     "text": [
      "(1, 2, 3, 'apple', 'banana')\n",
      "5\n",
      "1\n",
      "apple\n"
     ]
    }
   ],
   "source": [
    "my_tuple = (1, 2, 3, 'apple', 'banana')\n",
    "print(my_tuple)  # Output: (1, 2, 3, 'apple', 'banana')\n",
    "print(len(my_tuple)) # get the number of elements in a tuple\n",
    "print(my_tuple[0])  # Output: 1 (accessing elements using indexing)\n",
    "print(my_tuple[3])  # Output:  accessing the 4th item , apple"
   ]
  },
  {
   "cell_type": "code",
   "execution_count": 3,
   "id": "d2256efd-dcfb-4ce8-ae0b-dabbc8633dec",
   "metadata": {},
   "outputs": [
    {
     "name": "stdout",
     "output_type": "stream",
     "text": [
      "True\n",
      "True\n"
     ]
    }
   ],
   "source": [
    "# Membership testing\n",
    "tuple1 = (1, 2, 3)\n",
    "print(2 in tuple1)  # Output: True\n",
    "print('a' not in tuple1)  # Output: True"
   ]
  },
  {
   "cell_type": "code",
   "execution_count": 5,
   "id": "55f5d4f9-947c-44c6-837f-cc826dd17d0c",
   "metadata": {},
   "outputs": [
    {
     "name": "stdout",
     "output_type": "stream",
     "text": [
      "(1, 2, 3, 'a', 'b', 'c')\n"
     ]
    },
    {
     "data": {
      "text/plain": [
       "tuple"
      ]
     },
     "execution_count": 5,
     "metadata": {},
     "output_type": "execute_result"
    }
   ],
   "source": [
    "# Adding  tuples, concatenation\n",
    "tuple1 = (1, 2, 3)\n",
    "tuple2 = ('a', 'b', 'c')\n",
    "new_tuple = tuple1 + tuple2\n",
    "print(new_tuple)  # Output: (1, 2, 3, 'a', 'b', 'c')\n",
    "type(new_tuple)"
   ]
  },
  {
   "cell_type": "code",
   "execution_count": 7,
   "id": "8bc10ee7-58a1-4652-8546-c6246b2af5e3",
   "metadata": {},
   "outputs": [
    {
     "name": "stdout",
     "output_type": "stream",
     "text": [
      "{1, 2, 3, 4, 5}\n",
      "{1, 2, 3, 4, 5}\n"
     ]
    }
   ],
   "source": [
    "my_set = {1, 2, 3, 4, 5}  # Creating a set using curly braces\n",
    "print(my_set)  # Output: {1, 2, 3, 4, 5}\n",
    "\n",
    "my_set = set([1, 2, 3, 3, 4, 5])  # Creating a set using the set() function with duplicates\n",
    "print(my_set)  # Output: {1, 2, 3, 4, 5}  (duplicates are automatically removed)"
   ]
  },
  {
   "cell_type": "code",
   "execution_count": 9,
   "id": "d364c664-eb26-41c6-82f1-6625030a389e",
   "metadata": {},
   "outputs": [
    {
     "name": "stdout",
     "output_type": "stream",
     "text": [
      "{1, 2, 3, 4}\n",
      "{1, 2, 3, 4, 5, 6}\n"
     ]
    }
   ],
   "source": [
    "# Sets Addition\n",
    "my_set = {1, 2, 3}\n",
    "my_set.add(4)  # Adding a single element\n",
    "print(my_set)  # Output: {1, 2, 3, 4}\n",
    "\n",
    "my_set.update([4, 5, 6])  # Adding multiple elements\n",
    "print(my_set)  # Output: {1, 2, 3, 4, 5, 6}"
   ]
  },
  {
   "cell_type": "code",
   "execution_count": 11,
   "id": "dc996e06-e985-4a63-9e26-a2b722d8a0df",
   "metadata": {},
   "outputs": [
    {
     "name": "stdout",
     "output_type": "stream",
     "text": [
      "{1, 2, 4, 5}\n",
      "set()\n"
     ]
    }
   ],
   "source": [
    "#Removing elements: Since set is unordered collection, indexing won't work\n",
    "my_set = {1, 2, 3, 4, 5}\n",
    "my_set.remove(3)  # Removing a specific element with label/ name.\n",
    "print(my_set)  # Output: {1, 2, 4, 5}\n",
    "my_set.clear()  # Removing all elements from the set\n",
    "print(my_set)  # Output: set()"
   ]
  },
  {
   "cell_type": "code",
   "execution_count": 13,
   "id": "b46a2a27-a324-4f00-86aa-08c7e8c68664",
   "metadata": {},
   "outputs": [
    {
     "name": "stdout",
     "output_type": "stream",
     "text": [
      "{1, 2, 3, 4, 5}\n",
      "{3}\n",
      "{1, 2}\n"
     ]
    }
   ],
   "source": [
    "# Set operations\n",
    "set1 = {1, 2, 3}\n",
    "set2 = {3, 4, 5}\n",
    "\n",
    "# Union (elements in either set)\n",
    "union_set = set1 | set2  # or set1.union(set2)\n",
    "print(union_set)  # Output: {1, 2, 3, 4, 5}\n",
    "\n",
    "# Intersection (elements in both sets)\n",
    "intersection_set = set1 & set2  # or set1.intersection(set2)\n",
    "print(intersection_set)  # Output: {3}\n",
    "\n",
    "# Difference (elements in set1 but not in set2)\n",
    "difference_set = set1 - set2  # or set1.difference(set2)\n",
    "print(difference_set)  # Output: {1, 2}"
   ]
  },
  {
   "cell_type": "code",
   "execution_count": 15,
   "id": "0636129f-5ac3-4214-8f2b-ada69c0120a3",
   "metadata": {},
   "outputs": [
    {
     "name": "stdout",
     "output_type": "stream",
     "text": [
      "array('i', [1, 2, 3, 4, 5])\n",
      "array('f', [4.699999809265137, 5.099999904632568, 6.800000190734863])\n",
      "4.70\n",
      "5.10\n",
      "6.80\n"
     ]
    }
   ],
   "source": [
    "# Creating an array\n",
    "## Array elements are placed within brackets.\n",
    "# Array arguments(dtype, values)\n",
    "import array\n",
    "my_array = array.array('i', [1, 2, 3, 4, 5])  # 'i' represents the data type (integer in this case)\n",
    "print(my_array)  # Output: array('i', [1, 2, 3, 4, 5])\n",
    "a3=array.array('f', [4.7, 5.1, 6.8]) # 'f' represents single-precision floating-point numbers, which have a precision of more than 7 decimal digits\n",
    "print(a3)\n",
    "a3 = array.array('f', [4.7, 5.1, 6.8])\n",
    "for element in a3:\n",
    "  print(\"{:.2f}\".format(element))  # Display with 2 decimal places. For bettr control. use Numpy."
   ]
  },
  {
   "cell_type": "code",
   "execution_count": 17,
   "id": "74d6b5a1-ead1-4e24-ba6a-218fac5d5a8f",
   "metadata": {},
   "outputs": [
    {
     "name": "stdout",
     "output_type": "stream",
     "text": [
      "array('i', [1, 2, 3, 4, 5, 6])\n",
      "array('i', [1, 2, 50, 3, 4, 5, 6])\n",
      "array('i', [1, 2, 10, 3, 4, 5, 6])\n"
     ]
    }
   ],
   "source": [
    "#Array manipulation\n",
    "my_array = array.array('i', [1, 2, 3, 4, 5])\n",
    "\n",
    "my_array.append(6)  # Add an element to the end\n",
    "print(my_array)\n",
    "my_array.insert(2, 50)  # Insert 50 at index 2\n",
    "print(my_array)\n",
    "my_array[2] = 10  # Modify an element at a specific index\n",
    "print(my_array)"
   ]
  },
  {
   "cell_type": "code",
   "execution_count": 19,
   "id": "0e478219-8da4-4b4e-8b5c-15b9cc0ec007",
   "metadata": {},
   "outputs": [
    {
     "name": "stdout",
     "output_type": "stream",
     "text": [
      "3\n",
      "array('i', [1, 2, 4, 5])\n",
      "array('i', [10, 20, 30, 50])\n"
     ]
    }
   ],
   "source": [
    "#Pop & delete\n",
    "import array\n",
    "\n",
    "my_array = array.array('i', [1, 2, 3, 4, 5])\n",
    "\n",
    "removed_element = my_array.pop(2)  # Remove element at index 2\n",
    "\n",
    "print(removed_element)  # Output: 3\n",
    "print(my_array)  # Output: array('i', [1, 2, 4, 5])\n",
    "\n",
    "my_array1=array.array('i', [10, 20, 30, 40, 50])\n",
    "del my_array1[3]  # Remove the element at index 3\n",
    "print(my_array1)  # Output: array('i', [10, 20, 30, 50])"
   ]
  },
  {
   "cell_type": "code",
   "execution_count": 21,
   "id": "a2fde78a-65e5-4867-ab48-0e995a742f2d",
   "metadata": {},
   "outputs": [
    {
     "name": "stdout",
     "output_type": "stream",
     "text": [
      "array('i', [1, 2, 4, 5])\n"
     ]
    }
   ],
   "source": [
    "#Remove\n",
    "import array\n",
    "\n",
    "my_array = array.array('i', [1, 2, 3, 4, 5])\n",
    "\n",
    "my_array.remove(3)  # Remove the item 3. remove works on label/ value.\n",
    "\n",
    "print(my_array)  # Output: array('i', [1, 2, 4,5])"
   ]
  },
  {
   "cell_type": "code",
   "execution_count": 23,
   "id": "c833707d-657f-49c2-a7e0-dc66bce28884",
   "metadata": {},
   "outputs": [
    {
     "name": "stdout",
     "output_type": "stream",
     "text": [
      "{'name': 'Alice', 'age': 30, 'city': 'New York'}\n",
      "dict_keys(['name', 'age', 'city'])\n",
      "dict_values(['Alice', 30, 'New York'])\n",
      "dict_items([('name', 'Alice'), ('age', 30), ('city', 'New York')])\n",
      "Alice\n",
      "30\n"
     ]
    }
   ],
   "source": [
    "#Dictionaries:Dictionaries are used to store key:value pairs.\n",
    "#They are useful when you need to look up values based on their keys.\n",
    "my_dict = {'name': 'Alice', 'age': 30, 'city': 'New York'}\n",
    "print(my_dict) # Returns the above\n",
    "print(my_dict.keys()) # Return Dictionary Keys using keys() method\n",
    "print(my_dict.values()) # Return Dictionary Values using values() method\n",
    "print(my_dict.items()) # Access each key-value pair within a dictionary\n",
    "\n",
    "\n",
    "print(my_dict['name'])  # Output: Alice\n",
    "print(my_dict['age'])  # Output: 30"
   ]
  },
  {
   "cell_type": "code",
   "execution_count": 25,
   "id": "e79e4694-579e-4a6a-997a-4a8c55a1b38d",
   "metadata": {},
   "outputs": [
    {
     "name": "stdout",
     "output_type": "stream",
     "text": [
      "{'First': 'Python', 'Second': 'Java'}\n",
      "Python\n",
      "{'First': 'Python', 'Second': 'C++'}\n",
      "{'First': 'Python', 'Second': 'C++', 'Third': 'Ruby'}\n"
     ]
    }
   ],
   "source": [
    "#Maniplulating\n",
    "my_dict = {'First': 'Python', 'Second': 'Java'}\n",
    "print(my_dict)\n",
    "print(my_dict['First']) # Access item using key\n",
    "my_dict['Second'] = 'C++' #changing element\n",
    "print(my_dict)\n",
    "my_dict['Third'] = 'Ruby' #adding key-value pair\n",
    "print(my_dict)"
   ]
  },
  {
   "cell_type": "code",
   "execution_count": 27,
   "id": "993cae23-f744-47b2-9c3d-7aaa524408aa",
   "metadata": {},
   "outputs": [
    {
     "name": "stdout",
     "output_type": "stream",
     "text": [
      "30\n",
      "{'name': 'Alice', 'city': 'New York'}\n"
     ]
    }
   ],
   "source": [
    "# Pop:pop is typically used when you need to retrieve the value associated with the key\n",
    "# before removing it.\n",
    "\n",
    "my_dict = {'name': 'Alice', 'age': 30, 'city': 'New York'}\n",
    "\n",
    "removed_value = my_dict.pop('age')  # Remove 'age' and store its value\n",
    "\n",
    "print(removed_value)  # Output: 30\n",
    "print(my_dict)  # Output: {'name': 'Alice', 'city': 'New York'}"
   ]
  },
  {
   "cell_type": "code",
   "execution_count": 29,
   "id": "79c4c13a-540f-43a8-9448-06daf6e75942",
   "metadata": {},
   "outputs": [
    {
     "name": "stdout",
     "output_type": "stream",
     "text": [
      "{'name': 'Alice', 'age': 30}\n"
     ]
    }
   ],
   "source": [
    "#Delete:del is used when you simply want to remove a key-value pair without needing the value.\n",
    "my_dict = {'name': 'Alice', 'age': 30, 'city': 'New York'}\n",
    "\n",
    "del my_dict['city']  # Remove the key-value pair with key 'city'\n",
    "\n",
    "print(my_dict)  # Output: {'name': 'Alice', 'age': 30}"
   ]
  },
  {
   "cell_type": "code",
   "execution_count": null,
   "id": "466ab95d-245c-40d0-a43c-cc130c94de9d",
   "metadata": {},
   "outputs": [],
   "source": []
  }
 ],
 "metadata": {
  "kernelspec": {
   "display_name": "Python 3 (ipykernel)",
   "language": "python",
   "name": "python3"
  },
  "language_info": {
   "codemirror_mode": {
    "name": "ipython",
    "version": 3
   },
   "file_extension": ".py",
   "mimetype": "text/x-python",
   "name": "python",
   "nbconvert_exporter": "python",
   "pygments_lexer": "ipython3",
   "version": "3.12.4"
  }
 },
 "nbformat": 4,
 "nbformat_minor": 5
}
