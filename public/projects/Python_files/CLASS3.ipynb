{
 "cells": [
  {
   "cell_type": "code",
   "execution_count": 1,
   "id": "ee9d73b8-dc1e-4765-94ef-00d423f81dd3",
   "metadata": {},
   "outputs": [],
   "source": [
    "import pandas as pd"
   ]
  },
  {
   "cell_type": "code",
   "execution_count": 3,
   "id": "a0ca7b9d-60f2-4926-85de-d1fcd5f9406b",
   "metadata": {},
   "outputs": [
    {
     "name": "stdout",
     "output_type": "stream",
     "text": [
      "0    10\n",
      "1    20\n",
      "2    30\n",
      "3    40\n",
      "4    50\n",
      "dtype: int64\n"
     ]
    }
   ],
   "source": [
    "import pandas as pd\n",
    "s1 = pd.Series([10,20,30,40,50])\n",
    "print(s1)"
   ]
  },
  {
   "cell_type": "code",
   "execution_count": 5,
   "id": "c26cd676-447f-48f5-8457-b5c3d1df3557",
   "metadata": {},
   "outputs": [
    {
     "name": "stdout",
     "output_type": "stream",
     "text": [
      "English    80\n",
      "Science    93\n",
      "Social     78\n",
      "Tamil      85\n",
      "Maths      97\n",
      "dtype: int64\n",
      "[80 93 78 85 97]\n",
      "['English' 'Science' 'Social' 'Tamil' 'Maths']\n"
     ]
    }
   ],
   "source": [
    "#Creating a series with index, specified by the user. Ecah element in series is assigned label.\n",
    "s2 = pd.Series([80,93,78,85,97], index=['English','Science','Social','Tamil','Maths'])\n",
    "print(s2)\n",
    "print(s2.values)\n",
    "print(s2.index.values)"
   ]
  },
  {
   "cell_type": "code",
   "execution_count": 7,
   "id": "aa626bd3-7cfd-4cc4-95a4-a31d540de591",
   "metadata": {},
   "outputs": [
    {
     "name": "stdout",
     "output_type": "stream",
     "text": [
      "20\n",
      "20\n",
      "a    10\n",
      "c    30\n",
      "dtype: int64\n",
      "0    10\n",
      "1    20\n",
      "3    40\n",
      "4    50\n",
      "dtype: int64\n",
      "40\n",
      "a    10\n",
      "b    20\n",
      "c    30\n",
      "e    50\n",
      "dtype: int64\n"
     ]
    },
    {
     "name": "stderr",
     "output_type": "stream",
     "text": [
      "C:\\Users\\UTKARSH ANAND\\AppData\\Local\\Temp\\ipykernel_18600\\551969542.py:12: FutureWarning: Series.__getitem__ treating keys as positions is deprecated. In a future version, integer keys will always be treated as labels (consistent with DataFrame behavior). To access a value by position, use `ser.iloc[pos]`\n",
      "  print(series[1])  # Output: 20 (same as 'b')\n"
     ]
    }
   ],
   "source": [
    "# Series Manipulation\n",
    "import pandas as pd\n",
    "\n",
    "data = [10, 20, 30, 40, 50]\n",
    "index = ['a', 'b', 'c', 'd', 'e']\n",
    "series = pd.Series(data, index=index)\n",
    "\n",
    "# Accessing elements by index label:\n",
    "print(series['b'])  # Output: 20\n",
    "\n",
    "# Accessing elements by index position:\n",
    "print(series[1])  # Output: 20 (same as 'b')\n",
    "\n",
    "# Deleting any elemnt using del. del can remove elements with index label only.\n",
    "series = pd.Series([10, 20, 30], index=['a', 'b', 'c'])\n",
    "del series['b']  # Deletes the element with index label 'b'\n",
    "print(series)  # Output: a    10, c    30\n",
    "\n",
    "# Deleting any element using drop. drop is more versatile and can remove elements using both\n",
    "# index position and index labels\n",
    "import pandas as pd\n",
    "series = pd.Series([10, 20, 30, 40, 50])\n",
    "series = series.drop(series.index[2])\n",
    "print(series)  # Output: 0    10, 1    20, 3    40, 4    50\n",
    "\n",
    "# Using pop:\n",
    "data = [10, 20, 30, 40, 50]\n",
    "index = ['a', 'b', 'c', 'd', 'e']\n",
    "series = pd.Series(data, index=index)\n",
    "value = series.pop('d')  # Removes and returns the element with index label 'd'\n",
    "print(value)  # Output: 40\n",
    "print(series)"
   ]
  },
  {
   "cell_type": "code",
   "execution_count": 9,
   "id": "98f7e978-1512-490b-8329-7482e22f8e87",
   "metadata": {},
   "outputs": [
    {
     "name": "stdout",
     "output_type": "stream",
     "text": [
      "150\n",
      "12000000\n",
      "30.0\n",
      "30.0\n",
      "50\n",
      "10\n",
      "15.811388300841896\n",
      "250.0\n"
     ]
    }
   ],
   "source": [
    "# Basic calculations\n",
    "import pandas as pd\n",
    "\n",
    "data = [10, 20, 30, 40, 50]\n",
    "series = pd.Series(data)\n",
    "\n",
    "# Sum of all elements\n",
    "total_sum = series.sum()\n",
    "print(total_sum)\n",
    "\n",
    "# Product of all elements\n",
    "total_product = series.product()\n",
    "print(total_product)\n",
    "\n",
    "# Mean of all elements\n",
    "mean_value = series.mean()\n",
    "print(mean_value)\n",
    "\n",
    "# Median of all elements\n",
    "median_value = series.median()\n",
    "print(median_value)\n",
    "\n",
    "# Maximum value\n",
    "max_value = series.max()\n",
    "print(max_value)\n",
    "\n",
    "# Minimum value\n",
    "min_value = series.min()\n",
    "print(min_value)\n",
    "# Standard deviation of all elements\n",
    "std_deviation = series.std()\n",
    "print(std_deviation)\n",
    "\n",
    "# Variance of all elements\n",
    "variance_value = series.var()\n",
    "print(variance_value)"
   ]
  },
  {
   "cell_type": "code",
   "execution_count": 11,
   "id": "012fe912-8f15-4959-bc0c-c36b2602445c",
   "metadata": {},
   "outputs": [
    {
     "name": "stdout",
     "output_type": "stream",
     "text": [
      "   col1 col2\n",
      "0     1    a\n",
      "1     2    b\n",
      "2     3    c\n",
      "         Marks\n",
      "Alice       75\n",
      "Bob         82\n",
      "Charlie     90\n",
      "David       65\n",
      "Eve         78\n"
     ]
    }
   ],
   "source": [
    "#Creating DF\n",
    "import pandas as pd\n",
    "\n",
    "# Using a dictionary:\n",
    "data = {'col1': [1, 2, 3], 'col2': ['a', 'b', 'c']}\n",
    "df = pd.DataFrame(data)\n",
    "print(df)\n",
    "\n",
    "# Using a list :\n",
    "marks = [75, 82, 90, 65, 78]\n",
    "students = ['Alice', 'Bob', 'Charlie', 'David', 'Eve']\n",
    "\n",
    "df = pd.DataFrame(marks, index=students, columns=['Marks'])\n",
    "print(df)\n"
   ]
  },
  {
   "cell_type": "code",
   "execution_count": 13,
   "id": "39ebca24-acba-4805-940d-df6113e11b16",
   "metadata": {},
   "outputs": [
    {
     "name": "stdout",
     "output_type": "stream",
     "text": [
      "     Name  Age    Address Qualification\n",
      "0     Jai   27      Delhi           Msc\n",
      "1  Princi   24     Kanpur            MA\n",
      "2  Gaurav   22  Allahabad           MCA\n",
      "3    Anuj   32    Kannauj           Phd\n",
      "0    27\n",
      "1    24\n",
      "2    22\n",
      "3    32\n",
      "Name: Age, dtype: int64\n",
      "     Name Qualification\n",
      "0     Jai           Msc\n",
      "1  Princi            MA\n",
      "2  Gaurav           MCA\n",
      "3    Anuj           Phd\n",
      "     Name  Age    Address Qualification  Salary\n",
      "0     Jai   27      Delhi           Msc      10\n",
      "1  Princi   24     Kanpur            MA      25\n",
      "2  Gaurav   22  Allahabad           MCA      34\n",
      "3    Anuj   32    Kannauj           Phd      78\n",
      "     Name    Address Qualification\n",
      "0     Jai      Delhi           Msc\n",
      "1  Princi     Kanpur            MA\n",
      "2  Gaurav  Allahabad           MCA\n",
      "3    Anuj    Kannauj           Phd\n"
     ]
    }
   ],
   "source": [
    "# Dealing with columns\n",
    "import pandas as pd\n",
    "\n",
    "# Define a dictionary containing employee data\n",
    "data = {'Name':['Jai', 'Princi', 'Gaurav', 'Anuj'],\n",
    "        'Age':[27, 24, 22, 32],\n",
    "        'Address':['Delhi', 'Kanpur', 'Allahabad', 'Kannauj'],\n",
    "        'Qualification':['Msc', 'MA', 'MCA', 'Phd']}\n",
    "# Convert the dictionary into DataFrame\n",
    "df = pd.DataFrame(data)\n",
    "print(df)\n",
    "# selecting a column\n",
    "print(df['Age'])\n",
    "\n",
    "# select two columns\n",
    "print(df[['Name', 'Qualification']])\n",
    "\n",
    "# adding a new column\n",
    "Salary = [10,25,34,78]\n",
    "df['Salary'] = Salary\n",
    "print(df)\n",
    "\n",
    "# Dropping columns by their name.The axis parameter specifies whether you are operating on rows (axis=0) or columns (axis=1).\n",
    "df.drop([\"Age\", \"Salary\"], axis = 1, inplace = True)  # axis=0 (rows), axis=1 (columns)\n",
    "print(df)"
   ]
  },
  {
   "cell_type": "code",
   "execution_count": 15,
   "id": "d3d8a7d8-0e54-4bc4-bed5-309ce60c203d",
   "metadata": {},
   "outputs": [
    {
     "name": "stdout",
     "output_type": "stream",
     "text": [
      "   Name  Age\n",
      "0  John   20\n",
      "1  Mary   25\n",
      "2   Bob   30\n",
      "  Name  Age\n",
      "0  Jin   27\n",
      "   Name  Age\n",
      "0  John   20\n",
      "1  Mary   25\n",
      "2   Bob   30\n",
      "0   Jin   27\n",
      "   Name  Age\n",
      "0  John   20\n",
      "1  Mary   25\n",
      "2   Bob   30\n",
      "3   Jin   27\n",
      "4   Jin   27\n"
     ]
    },
    {
     "data": {
      "text/html": [
       "<div>\n",
       "<style scoped>\n",
       "    .dataframe tbody tr th:only-of-type {\n",
       "        vertical-align: middle;\n",
       "    }\n",
       "\n",
       "    .dataframe tbody tr th {\n",
       "        vertical-align: top;\n",
       "    }\n",
       "\n",
       "    .dataframe thead th {\n",
       "        text-align: right;\n",
       "    }\n",
       "</style>\n",
       "<table border=\"1\" class=\"dataframe\">\n",
       "  <thead>\n",
       "    <tr style=\"text-align: right;\">\n",
       "      <th></th>\n",
       "      <th>Name</th>\n",
       "      <th>Age</th>\n",
       "    </tr>\n",
       "  </thead>\n",
       "  <tbody>\n",
       "    <tr>\n",
       "      <th>0</th>\n",
       "      <td>John</td>\n",
       "      <td>20</td>\n",
       "    </tr>\n",
       "    <tr>\n",
       "      <th>2</th>\n",
       "      <td>Bob</td>\n",
       "      <td>30</td>\n",
       "    </tr>\n",
       "    <tr>\n",
       "      <th>0</th>\n",
       "      <td>Jin</td>\n",
       "      <td>27</td>\n",
       "    </tr>\n",
       "  </tbody>\n",
       "</table>\n",
       "</div>"
      ],
      "text/plain": [
       "   Name  Age\n",
       "0  John   20\n",
       "2   Bob   30\n",
       "0   Jin   27"
      ]
     },
     "execution_count": 15,
     "metadata": {},
     "output_type": "execute_result"
    }
   ],
   "source": [
    "# Adding a row to a dataframe\n",
    "import pandas as pd\n",
    "df1 = pd.DataFrame({'Name': ['John', 'Mary', 'Bob'], 'Age': [20, 25, 30]})\n",
    "print(df1)\n",
    "new_row = pd.DataFrame({'Name':['Jin'], 'Age':[27]})\n",
    "print(new_row)\n",
    "\n",
    "# simply concatenate both dataframes, preserving their original index positions\n",
    "df1 = pd.concat([df1,new_row])\n",
    "print(df1)\n",
    "\n",
    "# Concatenate with ignore_index=True\n",
    "df_concatenated = pd.concat([df1, new_row], ignore_index=True)\n",
    "print(df_concatenated)\n",
    "\n",
    "# removing a row from df using drop to remove 2nd row with index no.\n",
    "df1.drop([1], axis=0)  # (axis =0, rows, axis=1, column), Mary's record is removed"
   ]
  },
  {
   "cell_type": "code",
   "execution_count": 17,
   "id": "39f94750-8cd4-4bba-89cf-4cd138ab268c",
   "metadata": {},
   "outputs": [
    {
     "name": "stdout",
     "output_type": "stream",
     "text": [
      "      Name  Age      City\n",
      "a    Alice   25  New York\n",
      "b      Bob   30    London\n",
      "c  Charlie   28     Paris\n",
      "Name       Alice\n",
      "Age           25\n",
      "City    New York\n",
      "Name: a, dtype: object\n",
      "      Name  Age    City\n",
      "b      Bob   30  London\n",
      "c  Charlie   28   Paris\n",
      "a      Alice\n",
      "b        Bob\n",
      "c    Charlie\n",
      "Name: Name, dtype: object\n",
      "   Age      City\n",
      "a   25  New York\n",
      "b   30    London\n",
      "c   28     Paris\n"
     ]
    }
   ],
   "source": [
    "# using loc, iloc for df manipulation.\n",
    "# loc uses labels  for indexing (row and column names).\n",
    "\n",
    "\n",
    "import pandas as pd\n",
    "\n",
    "data = {'Name': ['Alice', 'Bob', 'Charlie'], 'Age': [25, 30, 28], 'City': ['New York', 'London', 'Paris']}\n",
    "df = pd.DataFrame(data, index=['a', 'b', 'c'])\n",
    "print(df)\n",
    "\n",
    "# 1. Selecting rows with loc:\n",
    "alice_row = df.loc['a']  # Select row with label 'a' (Alice)\n",
    "print(alice_row)\n",
    "\n",
    "bob_charlie_rows = df.loc[['b', 'c']]  # Select rows with labels 'b' and 'c' (Bob and Charlie)\n",
    "print(bob_charlie_rows)\n",
    "\n",
    "\n",
    "# Selecting columns with loc:\n",
    "name_column = df.loc[:, 'Name']  # Select the 'Name' column\n",
    "print(name_column)\n",
    "\n",
    "age_city_columns = df.loc[:, ['Age', 'City']]  # Select 'Age' and 'City' columns\n",
    "print(age_city_columns)\n",
    "\n",
    "\n"
   ]
  },
  {
   "cell_type": "code",
   "execution_count": 19,
   "id": "c8c69ea5-da8a-4b6c-bf8e-81ea8641a36c",
   "metadata": {},
   "outputs": [
    {
     "name": "stdout",
     "output_type": "stream",
     "text": [
      "      Name  Age      City\n",
      "a    Alice   25  New York\n",
      "b      Bob   30    London\n",
      "c  Charlie   28     Paris\n",
      "Name       Alice\n",
      "Age           25\n",
      "City    New York\n",
      "Name: a, dtype: object\n",
      "      Name  Age    City\n",
      "b      Bob   30  London\n",
      "c  Charlie   28   Paris\n",
      "a      Alice\n",
      "b        Bob\n",
      "c    Charlie\n",
      "Name: Name, dtype: object\n",
      "   Age      City\n",
      "a   25  New York\n",
      "b   30    London\n",
      "c   28     Paris\n"
     ]
    }
   ],
   "source": [
    "# iloc uses index integer positions for indexing.\n",
    "\n",
    "# Selecting rows with iloc:\n",
    "data = {'Name': ['Alice', 'Bob', 'Charlie'], 'Age': [25, 30, 28], 'City': ['New York', 'London', 'Paris']}\n",
    "df = pd.DataFrame(data, index=['a', 'b', 'c'])\n",
    "print(df)\n",
    "first_row = df.iloc[0]  # Select the first row (Alice)\n",
    "print(first_row)\n",
    "rows_1_and_2 = df.iloc[[1, 2]]  # Select rows at index positions 1 and 2 (Bob and Charlie)\n",
    "print(rows_1_and_2)\n",
    "\n",
    "\n",
    "# Selecting columns with iloc:\n",
    "first_column = df.iloc[:, 0]  # Select the first column ('Name')\n",
    "print(first_column)\n",
    "columns_1_and_2 = df.iloc[:, [1, 2]]  # Select columns ('Age' and 'City')\n",
    "print(columns_1_and_2)\n"
   ]
  },
  {
   "cell_type": "code",
   "execution_count": 21,
   "id": "ff1d6f91-e4f2-49cc-a75d-82e44b23987b",
   "metadata": {},
   "outputs": [
    {
     "name": "stdout",
     "output_type": "stream",
     "text": [
      "      Name  Age      City\n",
      "a    Alice   25  New York\n",
      "b      Bob   30    London\n",
      "c  Charlie   28     Paris\n",
      "30\n",
      "      Name      City\n",
      "a    Alice  New York\n",
      "c  Charlie     Paris\n"
     ]
    }
   ],
   "source": [
    "# Accessing cells of a dataframe, using loc\n",
    "import pandas as pd\n",
    "\n",
    "data = {'Name': ['Alice', 'Bob', 'Charlie'],\n",
    "        'Age': [25, 30, 28],\n",
    "        'City': ['New York', 'London', 'Paris']}\n",
    "df = pd.DataFrame(data, index=['a', 'b', 'c'])\n",
    "print(df)\n",
    "# Accessing a single cell:\n",
    "value = df.loc['b', 'Age']  # Access Bob's age (row 'b', column 'Age')\n",
    "print(value)  # Output: 30\n",
    "\n",
    "# Accessing multiple cells:\n",
    "subset = df.loc[['a', 'c'], ['Name', 'City']]  # Access Name and City for Alice and Charlie\n",
    "print(subset)"
   ]
  },
  {
   "cell_type": "code",
   "execution_count": 23,
   "id": "6097e406-83ee-4c17-82fa-2bad5dfdb87b",
   "metadata": {},
   "outputs": [
    {
     "name": "stdout",
     "output_type": "stream",
     "text": [
      "30\n",
      "      Name      City\n",
      "a    Alice  New York\n",
      "c  Charlie     Paris\n"
     ]
    }
   ],
   "source": [
    "# Accessing cells using iloc\n",
    "value = df.iloc[1, 1]  # Access the cell at row 1, column 1 (Bob's age)\n",
    "print(value)  # Output: 30\n",
    "\n",
    "# Accessing multiple cells:\n",
    "subset = df.iloc[[0, 2], [0, 2]]  # Access Name and City for Alice and Charlie\n",
    "print(subset)"
   ]
  },
  {
   "cell_type": "code",
   "execution_count": 25,
   "id": "e0da0ef0-c951-4f35-905a-e149a055a6dd",
   "metadata": {},
   "outputs": [
    {
     "name": "stdout",
     "output_type": "stream",
     "text": [
      "      Name  Age      City\n",
      "a    Alice   25  New York\n",
      "b      Bob   30    London\n",
      "c  Charlie   28     Paris\n",
      "32\n",
      "['David', 35, 'Tokyo']\n"
     ]
    }
   ],
   "source": [
    "#  Modifying dataframe with loc:\n",
    "df = pd.DataFrame({'Name': ['Alice', 'Bob', 'Charlie'], 'Age': [25, 30, 28], 'City': ['New York', 'London', 'Paris']})\n",
    "df = pd.DataFrame(data, index=['a', 'b', 'c'])\n",
    "print(df)\n",
    "df1=df.loc['b', 'Age'] = 32  # Change Bob's age to 32\n",
    "print(df1)\n",
    "df2=df.loc['c'] = ['David', 35, 'Tokyo']  # Replace Charlie's row with David's data\n",
    "print(df2)"
   ]
  },
  {
   "cell_type": "code",
   "execution_count": 27,
   "id": "010f2e61-c3d8-4077-9871-fc144473b7f2",
   "metadata": {},
   "outputs": [
    {
     "name": "stdout",
     "output_type": "stream",
     "text": [
      "      Name  Age      City\n",
      "a    Alice   25  New York\n",
      "b      Bob   30    London\n",
      "c  Charlie   28     Paris\n",
      "26\n",
      "['Eve', 29, 'Sydney']\n"
     ]
    }
   ],
   "source": [
    "#  Modifying datframe with iloc:\n",
    "df = pd.DataFrame({'Name': ['Alice', 'Bob', 'Charlie'], 'Age': [25, 30, 28], 'City': ['New York', 'London', 'Paris']})\n",
    "df = pd.DataFrame(data, index=['a', 'b', 'c'])\n",
    "print(df)\n",
    "df3=df.iloc[0, 1] = 26  # Change Alice's age to 26\n",
    "print(df3)\n",
    "df4=df.iloc[2] = ['Eve', 29, 'Sydney']  # Replace Charlie's row with Eve's data\n",
    "print(df4)"
   ]
  },
  {
   "cell_type": "code",
   "execution_count": 29,
   "id": "d8ef0b04-4f2c-4dab-9912-75c4ff0a2594",
   "metadata": {},
   "outputs": [
    {
     "name": "stdout",
     "output_type": "stream",
     "text": [
      "   col1  col2\n",
      "a     1     4\n",
      "b     2     5\n",
      "c     3     6\n",
      "5\n",
      "5\n",
      "   col1  col2\n",
      "a     1     4\n",
      "b     2    10\n",
      "c     3     6\n",
      "   col1  col2\n",
      "a   100     4\n",
      "b     2    10\n",
      "c     3     6\n"
     ]
    }
   ],
   "source": [
    "# Using at and iat for accessing records\n",
    "import pandas as pd\n",
    "\n",
    "data = {'col1': [1, 2, 3], 'col2': [4, 5, 6]}\n",
    "df = pd.DataFrame(data, index=['a', 'b', 'c'])\n",
    "print(df)\n",
    "# Accessing a single value using at:\n",
    "value = df.at['b', 'col2']  # Access the value at row 'b', column 'col2'\n",
    "print(value)  # Output: 5\n",
    "\n",
    "# Accessing a single value using iat ( index position):\n",
    "value = df.iat[1, 1]  # Access the value at row 2, column 2\n",
    "print(value)  # Output: 5\n",
    "\n",
    "# Modifying a single value using at:\n",
    "df.at['b', 'col2'] = 10  # Change the value at row 'b', column 'col2' to 10\n",
    "print(df)\n",
    "\n",
    "\n",
    "# Modifying a single value using iat:\n",
    "df.iat[0, 0] = 100  # Change the value at row 1, column 1 to 100\n",
    "print(df)\n"
   ]
  },
  {
   "cell_type": "code",
   "execution_count": 31,
   "id": "ab0feede-6759-41c4-b2fe-66ad83d0d44b",
   "metadata": {},
   "outputs": [
    {
     "name": "stdout",
     "output_type": "stream",
     "text": [
      "     5.1  3.5  1.4  0.2     Iris-setosa\n",
      "0    4.9  3.0  1.4  0.2     Iris-setosa\n",
      "1    4.7  3.2  1.3  0.2     Iris-setosa\n",
      "2    4.6  3.1  1.5  0.2     Iris-setosa\n",
      "3    5.0  3.6  1.4  0.2     Iris-setosa\n",
      "4    5.4  3.9  1.7  0.4     Iris-setosa\n",
      "..   ...  ...  ...  ...             ...\n",
      "144  6.7  3.0  5.2  2.3  Iris-virginica\n",
      "145  6.3  2.5  5.0  1.9  Iris-virginica\n",
      "146  6.5  3.0  5.2  2.0  Iris-virginica\n",
      "147  6.2  3.4  5.4  2.3  Iris-virginica\n",
      "148  5.9  3.0  5.1  1.8  Iris-virginica\n",
      "\n",
      "[149 rows x 5 columns]\n"
     ]
    }
   ],
   "source": [
    "import pandas as pd\n",
    "df_iris = pd.read_csv(\"https://archive.ics.uci.edu/ml/machine-learning-databases/iris/iris.data\")\n",
    "df_iris.head()\n",
    "print(df_iris)"
   ]
  },
  {
   "cell_type": "code",
   "execution_count": 33,
   "id": "27944bf4-b638-4f23-b699-0a9568e090c5",
   "metadata": {},
   "outputs": [
    {
     "name": "stdout",
     "output_type": "stream",
     "text": [
      "   col1  col2  col3\n",
      "0     1    10   100\n",
      "1     2    20   200\n",
      "2     3    30   300\n",
      "3     4    40   400\n",
      "4     5    50   500\n",
      "col1      3.0\n",
      "col2     30.0\n",
      "col3    300.0\n",
      "dtype: float64\n",
      "col1      3.0\n",
      "col2     30.0\n",
      "col3    300.0\n",
      "dtype: float64\n",
      "col1      1.581139\n",
      "col2     15.811388\n",
      "col3    158.113883\n",
      "dtype: float64\n",
      "111.0\n",
      "30.0\n",
      "162.73115427424636\n",
      "           col1       col2        col3\n",
      "count  5.000000   5.000000    5.000000\n",
      "mean   3.000000  30.000000  300.000000\n",
      "std    1.581139  15.811388  158.113883\n",
      "min    1.000000  10.000000  100.000000\n",
      "25%    2.000000  20.000000  200.000000\n",
      "50%    3.000000  30.000000  300.000000\n",
      "75%    4.000000  40.000000  400.000000\n",
      "max    5.000000  50.000000  500.000000\n"
     ]
    }
   ],
   "source": [
    "import pandas as pd\n",
    "\n",
    "# Create a sample DataFrame\n",
    "data = {'col1': [1, 2, 3, 4, 5],\n",
    "        'col2': [10, 20, 30, 40, 50],\n",
    "        'col3': [100, 200, 300, 400, 500]}\n",
    "df = pd.DataFrame(data)\n",
    "print(df)\n",
    "# 1. Basic Statistics for Each Column:\n",
    "\n",
    "# Calculate mean of each column\n",
    "column_means = df.mean()\n",
    "print(column_means)\n",
    "\n",
    "# Calculate median of each column\n",
    "column_medians = df.median()\n",
    "print(column_medians)\n",
    "\n",
    "# Calculate standard deviation of each column\n",
    "column_stds = df.std()\n",
    "print(column_stds)\n",
    "\n",
    "# 2. Statistics for the Entire DataFrame:\n",
    "\n",
    "# Calculate overall mean\n",
    "overall_mean = df.mean().mean()  # Mean of all column means\n",
    "print(overall_mean)\n",
    "\n",
    "# Calculate overall median\n",
    "overall_median = df.median().median()  # Median of all column medians\n",
    "print(overall_median)\n",
    "\n",
    "# Calculate overall standard deviation\n",
    "overall_std = df.stack().std()  # Standard deviation of all values\n",
    "print(overall_std)\n",
    "\n",
    "# 3. Descriptive Statistics:\n",
    "\n",
    "# Generate descriptive statistics for the entire DataFrame\n",
    "descriptive_stats = df.describe()\n",
    "print(descriptive_stats)"
   ]
  },
  {
   "cell_type": "code",
   "execution_count": null,
   "id": "42b93678-55cc-4bf3-b84d-691943278959",
   "metadata": {},
   "outputs": [],
   "source": []
  }
 ],
 "metadata": {
  "kernelspec": {
   "display_name": "Python 3 (ipykernel)",
   "language": "python",
   "name": "python3"
  },
  "language_info": {
   "codemirror_mode": {
    "name": "ipython",
    "version": 3
   },
   "file_extension": ".py",
   "mimetype": "text/x-python",
   "name": "python",
   "nbconvert_exporter": "python",
   "pygments_lexer": "ipython3",
   "version": "3.12.4"
  }
 },
 "nbformat": 4,
 "nbformat_minor": 5
}
