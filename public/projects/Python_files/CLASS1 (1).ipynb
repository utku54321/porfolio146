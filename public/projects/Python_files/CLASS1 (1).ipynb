{
 "cells": [
  {
   "cell_type": "code",
   "execution_count": 1,
   "id": "c46c5178-acd2-4806-a91a-40f14d3ee3ef",
   "metadata": {},
   "outputs": [
    {
     "name": "stdout",
     "output_type": "stream",
     "text": [
      "10\n",
      "1.25\n",
      "6\n",
      "6\n",
      "1\n",
      "6.0\n"
     ]
    }
   ],
   "source": [
    "# Python as calculator\n",
    "print(1+9)\n",
    "print(5/4)\n",
    "print(3*2)\n",
    "print(25//4)\n",
    "print(5%2)\n",
    "print(36**0.5)"
   ]
  },
  {
   "cell_type": "code",
   "execution_count": 3,
   "id": "a9437162-8adb-4631-a14c-604f73f7331e",
   "metadata": {},
   "outputs": [
    {
     "name": "stdout",
     "output_type": "stream",
     "text": [
      "False\n",
      "False\n"
     ]
    }
   ],
   "source": [
    "x= 4\n",
    "y=9\n",
    "print(x==y)\n",
    "print(x>=y)"
   ]
  },
  {
   "cell_type": "code",
   "execution_count": 5,
   "id": "bc90fb42-56d9-43e2-b591-7a015bad21b5",
   "metadata": {},
   "outputs": [
    {
     "name": "stdout",
     "output_type": "stream",
     "text": [
      "True\n",
      "False\n"
     ]
    }
   ],
   "source": [
    "x=4\n",
    "y=9\n",
    "print((x>y) or (x<y))\n",
    "print((x>y) and (x<y))"
   ]
  },
  {
   "cell_type": "code",
   "execution_count": 7,
   "id": "3299bd8a-9e6c-4634-80c9-a54f687aa896",
   "metadata": {},
   "outputs": [
    {
     "name": "stdout",
     "output_type": "stream",
     "text": [
      "12\n",
      "24\n",
      "-22\n"
     ]
    }
   ],
   "source": [
    "#Variable\n",
    "#An identifier containinga known information\n",
    " #Information is referred to as value\n",
    "\n",
    "#Variable Assignment\n",
    "# we use = sign to assign a value to variable\n",
    "a= 12\n",
    "print(a)\n",
    "print(2*a)\n",
    "print(a-34)\n",
    "#Variable Naming:alphanumeric allowed, _ underscore allowed, must start with letter."
   ]
  },
  {
   "cell_type": "code",
   "execution_count": 9,
   "id": "1ed38518-4020-4fff-9b14-d6b4f4c1ba6b",
   "metadata": {},
   "outputs": [
    {
     "name": "stdout",
     "output_type": "stream",
     "text": [
      "Ram\n",
      "32\n",
      "175.5\n",
      "(5+3j)\n",
      "True\n",
      "<class 'str'>\n",
      "<class 'int'>\n",
      "<class 'float'>\n",
      "<class 'complex'>\n",
      "<class 'bool'>\n"
     ]
    }
   ],
   "source": [
    "# Data types in python:\n",
    "\n",
    "empl_name =\"Ram\"\n",
    "print(empl_name)\n",
    "Age =32\n",
    "print(Age)\n",
    "Height = 175.5\n",
    "print(Height)\n",
    "c=5 +3j\n",
    "print(c)\n",
    "Salary_type = True\n",
    "print(Salary_type)\n",
    "\n",
    "# To check datatype of objects, type(objectname)\n",
    "print(type(empl_name))\n",
    "print(type(Age))\n",
    "print(type(Height))\n",
    "print(type(c))\n",
    "print(type(Salary_type))"
   ]
  },
  {
   "cell_type": "code",
   "execution_count": 11,
   "id": "87ec6f2b-69f0-4427-8692-552c8340c169",
   "metadata": {},
   "outputs": [
    {
     "data": {
      "text/plain": [
       "False"
      ]
     },
     "execution_count": 11,
     "metadata": {},
     "output_type": "execute_result"
    }
   ],
   "source": [
    "# for verifying Datatype of object\n",
    "type(Age) is bool"
   ]
  },
  {
   "cell_type": "code",
   "execution_count": 13,
   "id": "13963736-92cc-4f23-af1f-b01cc7746094",
   "metadata": {},
   "outputs": [
    {
     "name": "stdout",
     "output_type": "stream",
     "text": [
      "['ram', 'shyam', 24, 98]\n"
     ]
    },
    {
     "data": {
      "text/plain": [
       "list"
      ]
     },
     "execution_count": 13,
     "metadata": {},
     "output_type": "execute_result"
    }
   ],
   "source": [
    "#Lists:ordered collection of objects of any type.Lists are mutable i.e can be modified.\n",
    "List_A = [\"ram\", \"shyam\", 24, 98] # placed in square brackets\n",
    "print(List_A)\n",
    "type(List_A)"
   ]
  },
  {
   "cell_type": "code",
   "execution_count": 15,
   "id": "eda7d3a4-8f19-4cce-900d-9a26dd589e5a",
   "metadata": {},
   "outputs": [
    {
     "name": "stdout",
     "output_type": "stream",
     "text": [
      "example\n",
      "3.132\n"
     ]
    }
   ],
   "source": [
    "#Accessing elemennts of List  using its index position.\n",
    "my_list = [1, 2, 3, 'example', 3.132, 10, 30]\n",
    "\n",
    "#Indexing ( starts from 0)\n",
    "print(my_list[3]) #access element, knowing its index position\n",
    "print(my_list[4])"
   ]
  },
  {
   "cell_type": "code",
   "execution_count": 17,
   "id": "b3605723-291a-4c16-96c9-d8c4f6e6852e",
   "metadata": {},
   "outputs": [
    {
     "name": "stdout",
     "output_type": "stream",
     "text": [
      "10\n",
      "30\n",
      "50\n",
      "30\n"
     ]
    }
   ],
   "source": [
    "my_list = [10, 20, 30, 40, 50]\n",
    "print(my_list[0])  # Output: 10, 1st element\n",
    "print(my_list[2])  # Output: 30, third element\n",
    "print(my_list[-1]) # Output: 50, last element\n",
    "print(my_list[-3]) # Output: 30, third element from the last"
   ]
  },
  {
   "cell_type": "code",
   "execution_count": 19,
   "id": "d458b9de-339f-4c05-9a3b-1dbc089e87d5",
   "metadata": {},
   "outputs": [
    {
     "name": "stdout",
     "output_type": "stream",
     "text": [
      "[1, 2, 3]\n"
     ]
    }
   ],
   "source": [
    "# Slicing my_list[start:end]\n",
    "#start: The index of the first element you want to include.\n",
    "#end: The index of the element before which you want to stop.\n",
    "my_list = [1, 2, 3, 'example', 3.132, 10, 30]\n",
    "print(my_list[0:3]) #This slices the list my_list, starting from index 0 (inclusive) and\n",
    "# ending before index 3 (example). [1,2,3]"
   ]
  },
  {
   "cell_type": "code",
   "execution_count": 21,
   "id": "14dacd9b-fe37-41d9-909a-dd99473d3b4f",
   "metadata": {},
   "outputs": [
    {
     "name": "stdout",
     "output_type": "stream",
     "text": [
      "[1, 2, 3, 'example', 3.132, 10, 30, 78]\n",
      "[1, 2, 3, 99, 'example', 3.132, 10, 30, 78]\n"
     ]
    }
   ],
   "source": [
    "# Adding & Deleting elements from List\n",
    "my_list = [1, 2, 3, 'example', 3.132, 10, 30]\n",
    "my_list.append(78) # it adds 78 at the end of the list\n",
    "print(my_list)\n",
    "my_list.insert(3, 99) #insert element at index 3\n",
    "print(my_list)"
   ]
  },
  {
   "cell_type": "code",
   "execution_count": 23,
   "id": "acca9527-51c5-42bb-94de-5720285efe27",
   "metadata": {},
   "outputs": [
    {
     "name": "stdout",
     "output_type": "stream",
     "text": [
      "[1, 2, 3, 'example', 3.132, 30]\n",
      "[1, 2, 3, 3.132, 30]\n",
      "2\n",
      "[]\n"
     ]
    }
   ],
   "source": [
    "my_list = [1, 2, 3, 'example', 3.132, 10, 30]\n",
    "del my_list[5] #delete element at index 5 i.e 10 is removed\n",
    "print(my_list)\n",
    "my_list.remove('example') #remove element with value/ label\n",
    "print(my_list)\n",
    "a = my_list.pop(1) #pop  removes element at given index position and returns the removed element.\n",
    "print(a)\n",
    "my_list.clear() #empty the list\n",
    "print(my_list)\n",
    "# Remove works with label or the value, while del, pop, insert works on index position."
   ]
  },
  {
   "cell_type": "code",
   "execution_count": null,
   "id": "da7ebaf2-fd9b-4b87-a9bc-cfd11ddc58f7",
   "metadata": {},
   "outputs": [],
   "source": []
  }
 ],
 "metadata": {
  "kernelspec": {
   "display_name": "Python 3 (ipykernel)",
   "language": "python",
   "name": "python3"
  },
  "language_info": {
   "codemirror_mode": {
    "name": "ipython",
    "version": 3
   },
   "file_extension": ".py",
   "mimetype": "text/x-python",
   "name": "python",
   "nbconvert_exporter": "python",
   "pygments_lexer": "ipython3",
   "version": "3.12.4"
  }
 },
 "nbformat": 4,
 "nbformat_minor": 5
}
