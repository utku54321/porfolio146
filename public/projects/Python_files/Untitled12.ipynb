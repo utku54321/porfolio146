{
 "cells": [
  {
   "cell_type": "code",
   "execution_count": null,
   "id": "582031dc-cf02-403e-addf-f0f4e94d4212",
   "metadata": {},
   "outputs": [],
   "source": []
  }
 ],
 "metadata": {
  "kernelspec": {
   "display_name": "",
   "name": ""
  },
  "language_info": {
   "name": ""
  }
 },
 "nbformat": 4,
 "nbformat_minor": 5
}
