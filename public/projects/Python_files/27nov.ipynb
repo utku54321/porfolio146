{
 "cells": [
  {
   "cell_type": "code",
   "execution_count": 3,
   "id": "f57a468b-ae93-4d71-97de-bbe93a44eeca",
   "metadata": {},
   "outputs": [
    {
     "name": "stdout",
     "output_type": "stream",
     "text": [
      "welcome to the session of python\n"
     ]
    }
   ],
   "source": [
    "print(\"welcome to the session of python\")"
   ]
  },
  {
   "cell_type": "code",
   "execution_count": 4,
   "id": "1941c530-eca1-4e9f-8213-5312cda3051d",
   "metadata": {},
   "outputs": [
    {
     "name": "stdout",
     "output_type": "stream",
     "text": [
      "Sum of two numbers 60 30 30\n"
     ]
    }
   ],
   "source": [
    "a=30\n",
    "b=30\n",
    "c=a+b\n",
    "print(\"Sum of two numbers\",c,a,b)"
   ]
  },
  {
   "cell_type": "code",
   "execution_count": 5,
   "id": "189255f0-6ffb-4212-93e2-d115a35eecbb",
   "metadata": {},
   "outputs": [
    {
     "name": "stdout",
     "output_type": "stream",
     "text": [
      "Sum of two numbers 60 30 b\n"
     ]
    }
   ],
   "source": [
    "a=30\n",
    "b=30\n",
    "c=a+b\n",
    "print(\"Sum of two numbers\",c,a,\"b\") "
   ]
  },
  {
   "cell_type": "code",
   "execution_count": 6,
   "id": "99d37c60-b2c6-4c4c-9015-c8a6f1fa0fbf",
   "metadata": {},
   "outputs": [
    {
     "name": "stdout",
     "output_type": "stream",
     "text": [
      "Data Analytics using Python\n"
     ]
    }
   ],
   "source": [
    "janwar=\"Data Analytics using Python\"\n",
    "print(janwar)"
   ]
  },
  {
   "cell_type": "code",
   "execution_count": 7,
   "id": "a27c85f5-a153-47a3-be02-c8f570851fa6",
   "metadata": {},
   "outputs": [
    {
     "data": {
      "text/plain": [
       "'Data Analytics using Python'"
      ]
     },
     "execution_count": 7,
     "metadata": {},
     "output_type": "execute_result"
    }
   ],
   "source": [
    "janwar"
   ]
  },
  {
   "cell_type": "code",
   "execution_count": 8,
   "id": "af8b9d80-7d65-4c7f-8264-de876d492692",
   "metadata": {},
   "outputs": [
    {
     "name": "stdout",
     "output_type": "stream",
     "text": [
      "t\n"
     ]
    }
   ],
   "source": [
    "print(janwar[2])"
   ]
  },
  {
   "cell_type": "code",
   "execution_count": 9,
   "id": "aeb8b1ef-13ed-451a-9eaa-b8a2c54b74f6",
   "metadata": {},
   "outputs": [
    {
     "name": "stdout",
     "output_type": "stream",
     "text": [
      "a\n"
     ]
    }
   ],
   "source": [
    "print(janwar[1])"
   ]
  },
  {
   "cell_type": "code",
   "execution_count": 10,
   "id": "a35d8d8a-f2ce-419b-9303-f163b3bfba69",
   "metadata": {},
   "outputs": [
    {
     "name": "stdout",
     "output_type": "stream",
     "text": [
      "nalyti\n"
     ]
    },
    {
     "data": {
      "text/plain": [
       "'Data Analytics using Python'"
      ]
     },
     "execution_count": 10,
     "metadata": {},
     "output_type": "execute_result"
    }
   ],
   "source": [
    "print(janwar[6:12])\n",
    "janwar"
   ]
  },
  {
   "cell_type": "code",
   "execution_count": 11,
   "id": "77201e1b-a703-4d3b-a015-ed0e533cf0c2",
   "metadata": {},
   "outputs": [
    {
     "name": "stdout",
     "output_type": "stream",
     "text": [
      "the value will print after 6th index nalytics using Python\n"
     ]
    }
   ],
   "source": [
    "print(\"the value will print after 6th index\",janwar[6:])"
   ]
  },
  {
   "cell_type": "code",
   "execution_count": 12,
   "id": "2c05dc14-a411-4594-b5f7-745d8f883d58",
   "metadata": {},
   "outputs": [
    {
     "name": "stdout",
     "output_type": "stream",
     "text": [
      "Data Analytics using PythonData Analytics using Python\n"
     ]
    }
   ],
   "source": [
    "print(janwar*2)"
   ]
  },
  {
   "cell_type": "code",
   "execution_count": 13,
   "id": "e4562e6e-0fce-4e97-9b68-8db9a98c7166",
   "metadata": {},
   "outputs": [
    {
     "name": "stdout",
     "output_type": "stream",
     "text": [
      "Data Analytics using Pythonfor the analysic\n"
     ]
    }
   ],
   "source": [
    "print(janwar+\"for the analysic\")"
   ]
  },
  {
   "cell_type": "markdown",
   "id": "5af87a35-e432-408c-b8bc-8a0b45cb68a2",
   "metadata": {},
   "source": [
    "List Data Type"
   ]
  },
  {
   "cell_type": "code",
   "execution_count": 15,
   "id": "f7b240bd-3262-4494-8984-dfac1a3b727f",
   "metadata": {},
   "outputs": [
    {
     "name": "stdout",
     "output_type": "stream",
     "text": [
      "['Data1', 45, 31, 0.1]\n"
     ]
    }
   ],
   "source": [
    "a=[34,56,43,56,56]#created list a\n",
    "b=[34,56666,'student',56.2]#created list b\n",
    "list3=['Data1',45,31,0.1]\n",
    "list4=['Data2',45,32,0.1]\n",
    "print(list3)"
   ]
  },
  {
   "cell_type": "code",
   "execution_count": 16,
   "id": "4abd9b4a-e32e-48c0-bb5f-c6eb9cd02212",
   "metadata": {},
   "outputs": [],
   "source": [
    "list3=['Data123@',45,31,0.1]"
   ]
  },
  {
   "cell_type": "code",
   "execution_count": 17,
   "id": "819f1892-2f94-4cf3-8436-95b67ba73632",
   "metadata": {},
   "outputs": [
    {
     "name": "stdout",
     "output_type": "stream",
     "text": [
      "Student Total Marks= 103\n"
     ]
    }
   ],
   "source": [
    "Final_Marks=40 #datatype: number\n",
    "Total_Marks=Final_Marks+list3[2]+list4[2]\n",
    "print(\"Student Total Marks=\",Total_Marks)\n"
   ]
  },
  {
   "cell_type": "code",
   "execution_count": 18,
   "id": "7a337491-fece-498d-8680-81606270963a",
   "metadata": {},
   "outputs": [
    {
     "data": {
      "text/plain": [
       "1"
      ]
     },
     "execution_count": 18,
     "metadata": {},
     "output_type": "execute_result"
    }
   ],
   "source": [
    "list3.count(31)\n"
   ]
  },
  {
   "cell_type": "code",
   "execution_count": 19,
   "id": "e2c3c746-e711-48a6-88e6-57ee6f8093a6",
   "metadata": {},
   "outputs": [
    {
     "data": {
      "text/plain": [
       "['Data123@', 45, 31, 0.1]"
      ]
     },
     "execution_count": 19,
     "metadata": {},
     "output_type": "execute_result"
    }
   ],
   "source": [
    "list3"
   ]
  },
  {
   "cell_type": "code",
   "execution_count": 20,
   "id": "5d7143d3-8426-4a5a-9ac4-f5a3cd702748",
   "metadata": {},
   "outputs": [],
   "source": [
    "list3.extend(list4)"
   ]
  },
  {
   "cell_type": "code",
   "execution_count": 21,
   "id": "8bf10167-582c-422b-83e0-e2944791a989",
   "metadata": {},
   "outputs": [
    {
     "data": {
      "text/plain": [
       "['Data123@', 45, 31, 0.1, 'Data2', 45, 32, 0.1]"
      ]
     },
     "execution_count": 21,
     "metadata": {},
     "output_type": "execute_result"
    }
   ],
   "source": [
    "list3"
   ]
  },
  {
   "cell_type": "code",
   "execution_count": 22,
   "id": "748e5228-c1b5-48c8-bf1d-ae300778f37f",
   "metadata": {},
   "outputs": [
    {
     "data": {
      "text/plain": [
       "['Data123@', 45, 45, 31, 0.1, 'Data2', 45, 32, 0.1]"
      ]
     },
     "execution_count": 22,
     "metadata": {},
     "output_type": "execute_result"
    }
   ],
   "source": [
    "list3.insert(2,45)\n",
    "list3"
   ]
  },
  {
   "cell_type": "code",
   "execution_count": 23,
   "id": "71730b21-c78e-4c13-b372-1cc226da5657",
   "metadata": {},
   "outputs": [],
   "source": [
    "list3.remove(45)"
   ]
  },
  {
   "cell_type": "code",
   "execution_count": 24,
   "id": "cd537e89-b518-4103-9ea2-2215261386da",
   "metadata": {},
   "outputs": [
    {
     "data": {
      "text/plain": [
       "['Data123@', 45, 31, 0.1, 'Data2', 45, 32, 0.1]"
      ]
     },
     "execution_count": 24,
     "metadata": {},
     "output_type": "execute_result"
    }
   ],
   "source": [
    "list3"
   ]
  },
  {
   "cell_type": "code",
   "execution_count": 25,
   "id": "b10c575b-bbfd-4661-99b1-631d77b6b3ab",
   "metadata": {},
   "outputs": [
    {
     "data": {
      "text/plain": [
       "45"
      ]
     },
     "execution_count": 25,
     "metadata": {},
     "output_type": "execute_result"
    }
   ],
   "source": [
    "list3.pop(5)"
   ]
  },
  {
   "cell_type": "code",
   "execution_count": 26,
   "id": "908c10c6-d7d4-4138-888d-c92575f90ae5",
   "metadata": {},
   "outputs": [
    {
     "name": "stdout",
     "output_type": "stream",
     "text": [
      "('Data3', 45, 31, 1.1)\n"
     ]
    }
   ],
   "source": [
    "T1=('Data3',45,31,1.1) #tuple 1\n",
    "T2=('Data4',43,34,1.1) #tuple 2\n",
    "print(T1)"
   ]
  },
  {
   "cell_type": "code",
   "execution_count": 27,
   "id": "fe95447b-1d62-452b-88ae-1e978d134990",
   "metadata": {},
   "outputs": [],
   "source": [
    "list3[1]=56.3"
   ]
  },
  {
   "cell_type": "code",
   "execution_count": 28,
   "id": "8a1472ed-bae5-4cf7-8b9d-1fcbc15218a0",
   "metadata": {},
   "outputs": [
    {
     "data": {
      "text/plain": [
       "['Data123@', 56.3, 31, 0.1, 'Data2', 32, 0.1]"
      ]
     },
     "execution_count": 28,
     "metadata": {},
     "output_type": "execute_result"
    }
   ],
   "source": [
    "list3"
   ]
  },
  {
   "cell_type": "code",
   "execution_count": 29,
   "id": "523488e7-c595-40a7-a095-cc6d6464b7a7",
   "metadata": {},
   "outputs": [
    {
     "ename": "TypeError",
     "evalue": "'tuple' object does not support item assignment",
     "output_type": "error",
     "traceback": [
      "\u001b[1;31m---------------------------------------------------------------------------\u001b[0m",
      "\u001b[1;31mTypeError\u001b[0m                                 Traceback (most recent call last)",
      "Cell \u001b[1;32mIn[29], line 1\u001b[0m\n\u001b[1;32m----> 1\u001b[0m T1[\u001b[38;5;241m1\u001b[39m]\u001b[38;5;241m=\u001b[39m\u001b[38;5;241m56.3\u001b[39m\n\u001b[0;32m      2\u001b[0m T1\n",
      "\u001b[1;31mTypeError\u001b[0m: 'tuple' object does not support item assignment"
     ]
    }
   ],
   "source": [
    "T1[1]=56.3\n",
    "T1"
   ]
  },
  {
   "cell_type": "code",
   "execution_count": 30,
   "id": "dce98b0b-4fb2-4f5e-8aa7-85c432c38b12",
   "metadata": {},
   "outputs": [
    {
     "name": "stdout",
     "output_type": "stream",
     "text": [
      "40\n",
      "54\n",
      "dict_keys(['BA', 'QT', 'RM', 'DM'])\n",
      "dict_values([41, 43, 54, 44])\n"
     ]
    }
   ],
   "source": [
    "Internal_Marks={'BA':40,'QT':45,'RM':50,'DM':42}#Dic,BA-key,\n",
    "Final_Marks={'BA':41,'QT':43,'RM':54,'DM':44}\n",
    "\n",
    "print(Internal_Marks['BA'])\n",
    "print(Final_Marks['RM'])\n",
    "\n",
    "print(Final_Marks.keys())\n",
    "print(Final_Marks.values())"
   ]
  },
  {
   "cell_type": "code",
   "execution_count": 32,
   "id": "31db1a7e-2e14-4773-899c-285f0a2f5c4a",
   "metadata": {},
   "outputs": [
    {
     "name": "stdout",
     "output_type": "stream",
     "text": [
      "list contains the value\n"
     ]
    }
   ],
   "source": [
    "mar=31\n",
    "if(mar in list3):\n",
    "    print(\"list contains the value\") #execute for true condition\n",
    "else:\n",
    "    print(\"list do not contain the value\") #execute for false condition"
   ]
  },
  {
   "cell_type": "code",
   "execution_count": 34,
   "id": "9e78ae54-f708-4c46-b6e1-bb8d26ef7be9",
   "metadata": {},
   "outputs": [
    {
     "data": {
      "text/plain": [
       "False"
      ]
     },
     "execution_count": 34,
     "metadata": {},
     "output_type": "execute_result"
    }
   ],
   "source": [
    "x=5\n",
    "type(x)is float"
   ]
  },
  {
   "cell_type": "code",
   "execution_count": 36,
   "id": "60261b1b-1856-46b0-aad0-fe74dd8ffb41",
   "metadata": {},
   "outputs": [
    {
     "name": "stdout",
     "output_type": "stream",
     "text": [
      "Marks are in range 31-35\n"
     ]
    }
   ],
   "source": [
    "if(list3[2]<30):\n",
    "    print(\"Marks are below 30\")\n",
    "elif(list3[2]>30 and list3[2]<35):\n",
    "    print(\"Marks are in range 31-35\")\n",
    "else:\n",
    "    print(\"Marks are not in range 31-35\")"
   ]
  },
  {
   "cell_type": "code",
   "execution_count": 43,
   "id": "ef47c5fa-a77b-4690-80e7-ff181bc45c8c",
   "metadata": {},
   "outputs": [
    {
     "name": "stdout",
     "output_type": "stream",
     "text": [
      "list do not contains the value\n"
     ]
    }
   ],
   "source": [
    "#conditional statements\n",
    "# when cond met then score should be plus 30\n",
    "#and when cond did not meet then score should be minus 30\n",
    "\n",
    "score=40           #defining the score variable\n",
    "if(score in list3): #condition check\n",
    "    print(\"list contains the value\")\n",
    "else:                                                      #execute for false score variable\n",
    "    print(\"list do not contains the value\")\n",
    "    #in inused for entire list"
   ]
  },
  {
   "cell_type": "code",
   "execution_count": 47,
   "id": "7d3ac2ed-5244-4718-9648-a5fcf6c124cb",
   "metadata": {},
   "outputs": [
    {
     "name": "stdout",
     "output_type": "stream",
     "text": [
      "The data is of list 1\n",
      "The data is of list 2\n",
      "The data is of list 3\n",
      "The data is of list 4\n",
      "The data is of list 5\n"
     ]
    }
   ],
   "source": [
    "i=1\n",
    "for i in range(1,6):\n",
    "    print(\"The data is of list\",i)"
   ]
  },
  {
   "cell_type": "code",
   "execution_count": null,
   "id": "d9f7935f-f766-4af0-8bc5-583909df69ae",
   "metadata": {},
   "outputs": [],
   "source": [
    "x=int(input('enter a no'))\n",
    "while x!=0:\n",
    "    y=x*10\n",
    "    print(x,'times 10 equal',y)\n",
    "    x=int(input('enter a no. Press 0 to quit)"
   ]
  },
  {
   "cell_type": "code",
   "execution_count": null,
   "id": "ca3b29c9-3d0f-4340-bde8-f75ad0f7f176",
   "metadata": {},
   "outputs": [],
   "source": []
  }
 ],
 "metadata": {
  "kernelspec": {
   "display_name": "Python 3 (ipykernel)",
   "language": "python",
   "name": "python3"
  },
  "language_info": {
   "codemirror_mode": {
    "name": "ipython",
    "version": 3
   },
   "file_extension": ".py",
   "mimetype": "text/x-python",
   "name": "python",
   "nbconvert_exporter": "python",
   "pygments_lexer": "ipython3",
   "version": "3.12.4"
  }
 },
 "nbformat": 4,
 "nbformat_minor": 5
}
